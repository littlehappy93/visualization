{
 "cells": [
  {
   "cell_type": "markdown",
   "metadata": {},
   "source": [
    "1.The visualization aims to provide a comprehensive overview of gun-related fatalities, emphasizing the magnitude of the issue and possibly highlighting demographic details such as age distribution.\n",
    "It's objective. While the visualization uses factual data, the presentation style—especially the use of bold colors and dramatic design elements—suggests an intention to emphasize the severity of gun violence. "
   ]
  },
  {
   "cell_type": "markdown",
   "metadata": {},
   "source": [
    "2.This bar chart, titled \"The era of 'active shooters',\" displays the number of active shooter incidents annually from 2000 to 2015\n",
    "This visualization is relatively objective and neutral in its presentation, focusing on delivering the data in a clear and straightforward manner. However, the lack of contextual information and the choice of the title could subtly influence the viewer's perception."
   ]
  }
 ],
 "metadata": {
  "language_info": {
   "name": "python"
  }
 },
 "nbformat": 4,
 "nbformat_minor": 2
}
